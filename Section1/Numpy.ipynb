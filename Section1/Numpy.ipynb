{
 "cells": [
  {
   "cell_type": "markdown",
   "metadata": {
    "slideshow": {
     "slide_type": "slide"
    }
   },
   "source": [
    "# NumPy: Python’s vectorization solution"
   ]
  },
  {
   "cell_type": "markdown",
   "metadata": {},
   "source": [
    "## Motivating examples"
   ]
  },
  {
   "cell_type": "code",
   "execution_count": 4,
   "metadata": {
    "collapsed": true
   },
   "outputs": [],
   "source": [
    "distances = [10, 15, 17, 26, 20]\n",
    "times = [0.3, 0.47, 0.55, 1.20, 1.0]"
   ]
  },
  {
   "cell_type": "code",
   "execution_count": 5,
   "metadata": {},
   "outputs": [
    {
     "data": {
      "text/plain": [
       "[33.333333333333336,\n",
       " 31.914893617021278,\n",
       " 30.909090909090907,\n",
       " 21.666666666666668,\n",
       " 20.0]"
      ]
     },
     "execution_count": 5,
     "metadata": {},
     "output_type": "execute_result"
    }
   ],
   "source": [
    "# Calculate speeds with Python\n",
    "speeds = []\n",
    "for i in range(len(distances)):\n",
    "    speeds.append(distances[i]/times[i])\n",
    "    \n",
    "speeds"
   ]
  },
  {
   "cell_type": "code",
   "execution_count": 6,
   "metadata": {},
   "outputs": [
    {
     "data": {
      "text/plain": [
       "[33.333333333333336,\n",
       " 31.914893617021278,\n",
       " 30.909090909090907,\n",
       " 21.666666666666668,\n",
       " 20.0]"
      ]
     },
     "execution_count": 6,
     "metadata": {},
     "output_type": "execute_result"
    }
   ],
   "source": [
    "speeds = [d/t for d,t in zip(distances, times)]\n",
    "speeds"
   ]
  },
  {
   "cell_type": "code",
   "execution_count": 7,
   "metadata": {},
   "outputs": [
    {
     "data": {
      "text/plain": [
       "157.1"
      ]
     },
     "execution_count": 7,
     "metadata": {},
     "output_type": "execute_result"
    }
   ],
   "source": [
    "product_quantities = [13, 5, 6, 10, 11]\n",
    "prices = [1.2, 6.5, 1.0, 4.8, 5.0]\n",
    "total = sum([q*p for q,p in zip(product_quantities, prices)])\n",
    "total"
   ]
  },
  {
   "cell_type": "code",
   "execution_count": null,
   "metadata": {
    "collapsed": true
   },
   "outputs": [],
   "source": [
    "speeds = distances/times\n",
    "total = sum(product_quantities*prices)"
   ]
  },
  {
   "cell_type": "markdown",
   "metadata": {},
   "source": [
    "# NumPy arrays: creation, methods and attributes"
   ]
  },
  {
   "cell_type": "markdown",
   "metadata": {},
   "source": [
    "## What is a NumPy array?"
   ]
  },
  {
   "cell_type": "markdown",
   "metadata": {},
   "source": [
    "NumPy’s main object is the homogeneous multidimensional array. It is a table of elements (usually numbers), all of the same type, indexed by a tuple of positive integers. In NumPy dimensions are called axes. The number of axes is the *rank* or *dimension*."
   ]
  },
  {
   "cell_type": "markdown",
   "metadata": {},
   "source": [
    "## Creating arrays: from lists and using built-in functions"
   ]
  },
  {
   "cell_type": "code",
   "execution_count": 8,
   "metadata": {
    "collapsed": true
   },
   "outputs": [],
   "source": [
    "import numpy as np"
   ]
  },
  {
   "cell_type": "code",
   "execution_count": 9,
   "metadata": {
    "collapsed": true
   },
   "outputs": [],
   "source": [
    "# arrays from lists\n",
    "distances = [10, 15, 17, 26, 20]\n",
    "times = [0.3, 0.47, 0.55, 1.20, 1.0]\n",
    "distances = np.array(distances)\n",
    "times = np.array(times)"
   ]
  },
  {
   "cell_type": "code",
   "execution_count": 10,
   "metadata": {
    "collapsed": true
   },
   "outputs": [],
   "source": [
    "product_quantities = [13, 5, 6, 10, 11]\n",
    "prices = [1.2, 6.5, 1.0, 4.8, 5.0]\n",
    "product_quantities = np.array(product_quantities)\n",
    "prices = np.array(prices)"
   ]
  },
  {
   "cell_type": "code",
   "execution_count": 11,
   "metadata": {},
   "outputs": [
    {
     "data": {
      "text/plain": [
       "array([10, 15, 17, 26, 20])"
      ]
     },
     "execution_count": 11,
     "metadata": {},
     "output_type": "execute_result"
    }
   ],
   "source": [
    "distances"
   ]
  },
  {
   "cell_type": "code",
   "execution_count": 12,
   "metadata": {},
   "outputs": [
    {
     "data": {
      "text/plain": [
       "numpy.ndarray"
      ]
     },
     "execution_count": 12,
     "metadata": {},
     "output_type": "execute_result"
    }
   ],
   "source": [
    "type(distances)"
   ]
  },
  {
   "cell_type": "code",
   "execution_count": 13,
   "metadata": {},
   "outputs": [
    {
     "data": {
      "text/plain": [
       "array([ 33.33333333,  31.91489362,  30.90909091,  21.66666667,  20.        ])"
      ]
     },
     "execution_count": 13,
     "metadata": {},
     "output_type": "execute_result"
    }
   ],
   "source": [
    "speeds = distances/times\n",
    "speeds"
   ]
  },
  {
   "cell_type": "code",
   "execution_count": 14,
   "metadata": {},
   "outputs": [
    {
     "data": {
      "text/plain": [
       "157.09999999999999"
      ]
     },
     "execution_count": 14,
     "metadata": {},
     "output_type": "execute_result"
    }
   ],
   "source": [
    "total = sum(product_quantities*prices)\n",
    "total"
   ]
  },
  {
   "cell_type": "code",
   "execution_count": 15,
   "metadata": {},
   "outputs": [
    {
     "name": "stdout",
     "output_type": "stream",
     "text": [
      "10 / 0.3 = 33.333333333333336\n",
      "15 / 0.47 = 31.914893617021278\n",
      "17 / 0.55 = 30.909090909090907\n",
      "26 / 1.2 = 21.666666666666668\n",
      "20 / 1.0 = 20.0\n"
     ]
    }
   ],
   "source": [
    "for d,t,v in zip(distances, times, speeds):\n",
    "    print(\"{} / {} = {}\".format(d,t,v))"
   ]
  },
  {
   "cell_type": "markdown",
   "metadata": {},
   "source": [
    "### Array creation"
   ]
  },
  {
   "cell_type": "markdown",
   "metadata": {},
   "source": [
    "If we pass np.array() a list of lists, it will create a 2-dimensional array. If pass a list of lists of lists, it will create a 3-dimensional array, and so on and so forth."
   ]
  },
  {
   "cell_type": "code",
   "execution_count": 16,
   "metadata": {},
   "outputs": [
    {
     "data": {
      "text/plain": [
       "array([[1, 2],\n",
       "       [3, 4]])"
      ]
     },
     "execution_count": 16,
     "metadata": {},
     "output_type": "execute_result"
    }
   ],
   "source": [
    "A = np.array([[1, 2], [3, 4]])\n",
    "A"
   ]
  },
  {
   "cell_type": "code",
   "execution_count": 17,
   "metadata": {},
   "outputs": [
    {
     "data": {
      "text/plain": [
       "array([0, 0, 0, 0, 0, 0, 0, 0, 0, 0])"
      ]
     },
     "execution_count": 17,
     "metadata": {},
     "output_type": "execute_result"
    }
   ],
   "source": [
    "# Create a length-10 integer array filled with zeros\n",
    "np.zeros(10, dtype=int)"
   ]
  },
  {
   "cell_type": "code",
   "execution_count": 18,
   "metadata": {},
   "outputs": [
    {
     "data": {
      "text/plain": [
       "array([[ 1.,  1.,  1.,  1.,  1.],\n",
       "       [ 1.,  1.,  1.,  1.,  1.],\n",
       "       [ 1.,  1.,  1.,  1.,  1.]])"
      ]
     },
     "execution_count": 18,
     "metadata": {},
     "output_type": "execute_result"
    }
   ],
   "source": [
    "# Create a 3x5 floating-point array filled with ones\n",
    "np.ones(shape=(3, 5), dtype=float)"
   ]
  },
  {
   "cell_type": "code",
   "execution_count": 19,
   "metadata": {},
   "outputs": [
    {
     "data": {
      "text/plain": [
       "array([ 0,  2,  4,  6,  8, 10, 12, 14, 16, 18])"
      ]
     },
     "execution_count": 19,
     "metadata": {},
     "output_type": "execute_result"
    }
   ],
   "source": [
    "# Create an array filled with a linear sequence\n",
    "# Starting at 0, ending at 20, stepping by 2\n",
    "np.arange(start=0, stop=20, step=2)"
   ]
  },
  {
   "cell_type": "code",
   "execution_count": 20,
   "metadata": {},
   "outputs": [
    {
     "data": {
      "text/plain": [
       "array([ 0.        ,  0.05263158,  0.10526316,  0.15789474,  0.21052632,\n",
       "        0.26315789,  0.31578947,  0.36842105,  0.42105263,  0.47368421,\n",
       "        0.52631579,  0.57894737,  0.63157895,  0.68421053,  0.73684211,\n",
       "        0.78947368,  0.84210526,  0.89473684,  0.94736842,  1.        ])"
      ]
     },
     "execution_count": 20,
     "metadata": {},
     "output_type": "execute_result"
    }
   ],
   "source": [
    "# Create an array of 20 values evenly spaced between 0 and 1\n",
    "np.linspace(0, 1, 20)"
   ]
  },
  {
   "cell_type": "markdown",
   "metadata": {},
   "source": [
    "### Mathematical functions"
   ]
  },
  {
   "cell_type": "code",
   "execution_count": 21,
   "metadata": {},
   "outputs": [
    {
     "name": "stdout",
     "output_type": "stream",
     "text": [
      "[-0.84147098 -0.78332691 -0.71735609 -0.64421769 -0.56464247 -0.47942554\n",
      " -0.38941834 -0.29552021 -0.19866933 -0.09983342  0.          0.09983342\n",
      "  0.19866933  0.29552021  0.38941834  0.47942554  0.56464247  0.64421769\n",
      "  0.71735609  0.78332691  0.84147098] \n",
      "\n",
      "[ 0.36787944  0.40656966  0.44932896  0.4965853   0.54881164  0.60653066\n",
      "  0.67032005  0.74081822  0.81873075  0.90483742  1.          1.10517092\n",
      "  1.22140276  1.34985881  1.4918247   1.64872127  1.8221188   2.01375271\n",
      "  2.22554093  2.45960311  2.71828183] \n",
      "\n",
      "[ 1.    0.81  0.64  0.49  0.36  0.25  0.16  0.09  0.04  0.01  0.    0.01\n",
      "  0.04  0.09  0.16  0.25  0.36  0.49  0.64  0.81  1.  ] \n",
      "\n"
     ]
    }
   ],
   "source": [
    "x = np.linspace(-1, 1, 21)\n",
    "print(np.sin(x), \"\\n\")\n",
    "print(np.exp(x), \"\\n\")\n",
    "print(x**2, \"\\n\")"
   ]
  },
  {
   "cell_type": "markdown",
   "metadata": {},
   "source": [
    "### Statistical functions"
   ]
  },
  {
   "cell_type": "code",
   "execution_count": 22,
   "metadata": {},
   "outputs": [
    {
     "name": "stdout",
     "output_type": "stream",
     "text": [
      "Mean:  4.22942104619e-17\n",
      "Standard Deviation:  0.605530070819\n",
      "25th percentile:  -0.995\n"
     ]
    }
   ],
   "source": [
    "print(\"Mean: \", np.mean(x))\n",
    "print(\"Standard Deviation: \", np.std(x))\n",
    "print(\"25th percentile: \", np.percentile(x,q=0.25))"
   ]
  }
 ],
 "metadata": {
  "kernelspec": {
   "display_name": "Python 3",
   "language": "python",
   "name": "python3"
  },
  "language_info": {
   "codemirror_mode": {
    "name": "ipython",
    "version": 3
   },
   "file_extension": ".py",
   "mimetype": "text/x-python",
   "name": "python",
   "nbconvert_exporter": "python",
   "pygments_lexer": "ipython3",
   "version": "3.6.1"
  },
  "toc": {
   "colors": {
    "hover_highlight": "#DAA520",
    "running_highlight": "#FF0000",
    "selected_highlight": "#FFD700"
   },
   "moveMenuLeft": true,
   "nav_menu": {
    "height": "283px",
    "width": "252px"
   },
   "navigate_menu": true,
   "number_sections": true,
   "sideBar": true,
   "threshold": 4,
   "toc_cell": false,
   "toc_section_display": "block",
   "toc_window_display": false
  }
 },
 "nbformat": 4,
 "nbformat_minor": 2
}
